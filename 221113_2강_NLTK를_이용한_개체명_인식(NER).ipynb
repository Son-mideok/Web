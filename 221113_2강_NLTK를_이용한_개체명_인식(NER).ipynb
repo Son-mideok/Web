{
  "nbformat": 4,
  "nbformat_minor": 0,
  "metadata": {
    "colab": {
      "provenance": [],
      "authorship_tag": "ABX9TyPCX0i8GBNNtdFCDU4Lrq0n",
      "include_colab_link": true
    },
    "kernelspec": {
      "name": "python3",
      "display_name": "Python 3"
    },
    "language_info": {
      "name": "python"
    }
  },
  "cells": [
    {
      "cell_type": "markdown",
      "metadata": {
        "id": "view-in-github",
        "colab_type": "text"
      },
      "source": [
        "<a href=\"https://colab.research.google.com/github/Son-mideok/e-Learning/blob/main/221113_2%EA%B0%95_NLTK%EB%A5%BC_%EC%9D%B4%EC%9A%A9%ED%95%9C_%EA%B0%9C%EC%B2%B4%EB%AA%85_%EC%9D%B8%EC%8B%9D(NER).ipynb\" target=\"_parent\"><img src=\"https://colab.research.google.com/assets/colab-badge.svg\" alt=\"Open In Colab\"/></a>"
      ]
    },
    {
      "cell_type": "markdown",
      "source": [
        "## 개체명 인식(NER) 실습"
      ],
      "metadata": {
        "id": "cgHJ_FqMnmo_"
      }
    },
    {
      "cell_type": "code",
      "execution_count": null,
      "metadata": {
        "colab": {
          "base_uri": "https://localhost:8080/"
        },
        "id": "-uUsKX8infOB",
        "outputId": "ade79ff9-3a0c-4b2f-9520-34928c3edcde"
      },
      "outputs": [
        {
          "output_type": "stream",
          "name": "stdout",
          "text": [
            "Looking in indexes: https://pypi.org/simple, https://us-python.pkg.dev/colab-wheels/public/simple/\n",
            "Requirement already satisfied: nltk in /usr/local/lib/python3.7/dist-packages (3.7)\n",
            "Requirement already satisfied: tqdm in /usr/local/lib/python3.7/dist-packages (from nltk) (4.64.1)\n",
            "Requirement already satisfied: regex>=2021.8.3 in /usr/local/lib/python3.7/dist-packages (from nltk) (2022.6.2)\n",
            "Requirement already satisfied: click in /usr/local/lib/python3.7/dist-packages (from nltk) (7.1.2)\n",
            "Requirement already satisfied: joblib in /usr/local/lib/python3.7/dist-packages (from nltk) (1.2.0)\n"
          ]
        }
      ],
      "source": [
        "!pip install nltk"
      ]
    },
    {
      "cell_type": "code",
      "source": [
        "import nltk"
      ],
      "metadata": {
        "id": "vizoc3-mnz9o"
      },
      "execution_count": null,
      "outputs": []
    },
    {
      "cell_type": "code",
      "source": [
        "nltk.download(\"all\", quiet=True)"
      ],
      "metadata": {
        "colab": {
          "base_uri": "https://localhost:8080/"
        },
        "id": "Vuv8L9NBoDGQ",
        "outputId": "fd9deec5-9da4-42d0-f548-3f2e4e1fb9bd"
      },
      "execution_count": null,
      "outputs": [
        {
          "output_type": "execute_result",
          "data": {
            "text/plain": [
              "True"
            ]
          },
          "metadata": {},
          "execution_count": 3
        }
      ]
    },
    {
      "cell_type": "code",
      "source": [
        "from nltk import word_tokenize, pos_tag, ne_chunk\n",
        "sentence = \"Jim bought 300 shares of Acme Corp. in 2006.\"\n",
        "sentence = pos_tag(word_tokenize(sentence))\n",
        "print(sentence)"
      ],
      "metadata": {
        "colab": {
          "base_uri": "https://localhost:8080/"
        },
        "id": "gQAUJ-izoDxX",
        "outputId": "3f24e0b5-375d-4432-aa05-c13a7e113f95"
      },
      "execution_count": null,
      "outputs": [
        {
          "output_type": "stream",
          "name": "stdout",
          "text": [
            "[('Jim', 'NNP'), ('bought', 'VBD'), ('300', 'CD'), ('shares', 'NNS'), ('of', 'IN'), ('Acme', 'NNP'), ('Corp.', 'NNP'), ('in', 'IN'), ('2006', 'CD'), ('.', '.')]\n"
          ]
        }
      ]
    },
    {
      "cell_type": "code",
      "source": [
        "sentence = ne_chunk(sentence)\n",
        "print(sentence)"
      ],
      "metadata": {
        "colab": {
          "base_uri": "https://localhost:8080/"
        },
        "id": "QcMax65OoEjY",
        "outputId": "5b362679-55c1-43e9-8bb6-80c11971199c"
      },
      "execution_count": null,
      "outputs": [
        {
          "output_type": "stream",
          "name": "stdout",
          "text": [
            "(S\n",
            "  (PERSON Jim/NNP)\n",
            "  bought/VBD\n",
            "  300/CD\n",
            "  shares/NNS\n",
            "  of/IN\n",
            "  (ORGANIZATION Acme/NNP Corp./NNP)\n",
            "  in/IN\n",
            "  2006/CD\n",
            "  ./.)\n"
          ]
        }
      ]
    },
    {
      "cell_type": "code",
      "source": [
        "sentence = \"Google began in January 1996 as a research project by Larry Page and Sergey Brin when they were both PhD students at Stanford University in California.\"\n",
        "sentence = pos_tag(word_tokenize(sentence))\n",
        "print(sentence)"
      ],
      "metadata": {
        "colab": {
          "base_uri": "https://localhost:8080/"
        },
        "id": "nd0OemUroEqP",
        "outputId": "861c63bc-ac2e-485b-bdd8-d8eb3b124f7a"
      },
      "execution_count": null,
      "outputs": [
        {
          "output_type": "stream",
          "name": "stdout",
          "text": [
            "[('Google', 'NNP'), ('began', 'VBD'), ('in', 'IN'), ('January', 'NNP'), ('1996', 'CD'), ('as', 'IN'), ('a', 'DT'), ('research', 'NN'), ('project', 'NN'), ('by', 'IN'), ('Larry', 'NNP'), ('Page', 'NNP'), ('and', 'CC'), ('Sergey', 'NNP'), ('Brin', 'NNP'), ('when', 'WRB'), ('they', 'PRP'), ('were', 'VBD'), ('both', 'DT'), ('PhD', 'NNP'), ('students', 'NNS'), ('at', 'IN'), ('Stanford', 'NNP'), ('University', 'NNP'), ('in', 'IN'), ('California', 'NNP'), ('.', '.')]\n"
          ]
        }
      ]
    },
    {
      "cell_type": "code",
      "source": [
        "sentence = ne_chunk(sentence)\n",
        "print(sentence)"
      ],
      "metadata": {
        "colab": {
          "base_uri": "https://localhost:8080/"
        },
        "id": "uORbk8XpoExQ",
        "outputId": "cc4b91a8-7a9d-4bb3-d79d-18677e8705f8"
      },
      "execution_count": null,
      "outputs": [
        {
          "output_type": "stream",
          "name": "stdout",
          "text": [
            "(S\n",
            "  (PERSON Google/NNP)\n",
            "  began/VBD\n",
            "  in/IN\n",
            "  January/NNP\n",
            "  1996/CD\n",
            "  as/IN\n",
            "  a/DT\n",
            "  research/NN\n",
            "  project/NN\n",
            "  by/IN\n",
            "  (PERSON Larry/NNP Page/NNP)\n",
            "  and/CC\n",
            "  (PERSON Sergey/NNP Brin/NNP)\n",
            "  when/WRB\n",
            "  they/PRP\n",
            "  were/VBD\n",
            "  both/DT\n",
            "  (ORGANIZATION PhD/NNP)\n",
            "  students/NNS\n",
            "  at/IN\n",
            "  (ORGANIZATION Stanford/NNP University/NNP)\n",
            "  in/IN\n",
            "  (GPE California/NNP)\n",
            "  ./.)\n"
          ]
        }
      ]
    },
    {
      "cell_type": "code",
      "source": [],
      "metadata": {
        "id": "ZC5ARZhLoE13"
      },
      "execution_count": null,
      "outputs": []
    }
  ]
}