{
  "nbformat": 4,
  "nbformat_minor": 0,
  "metadata": {
    "colab": {
      "provenance": [],
      "collapsed_sections": [],
      "authorship_tag": "ABX9TyPzNOi5sGl4lXNWRuFE0c+R",
      "include_colab_link": true
    },
    "kernelspec": {
      "name": "python3",
      "display_name": "Python 3"
    },
    "language_info": {
      "name": "python"
    },
    "accelerator": "GPU",
    "gpuClass": "standard"
  },
  "cells": [
    {
      "cell_type": "markdown",
      "metadata": {
        "id": "view-in-github",
        "colab_type": "text"
      },
      "source": [
        "<a href=\"https://colab.research.google.com/github/Son-mideok/e-Learning/blob/main/4%EA%B0%95_Word2Vec%EC%9D%84_%EC%9D%B4%EC%9A%A9%ED%95%9C_%EC%9E%84%EB%B2%A0%EB%94%A9_%EC%8B%A4%EC%8A%B5.ipynb\" target=\"_parent\"><img src=\"https://colab.research.google.com/assets/colab-badge.svg\" alt=\"Open In Colab\"/></a>"
      ]
    },
    {
      "cell_type": "markdown",
      "source": [
        "## 라이브러리 import"
      ],
      "metadata": {
        "id": "RhkA3TvG5riP"
      }
    },
    {
      "cell_type": "code",
      "source": [
        "import io\n",
        "import re\n",
        "import string\n",
        "import tensorflow as tf\n",
        "import tqdm\n",
        "\n",
        "from tensorflow.keras import Model\n",
        "from tensorflow.keras.layers import Dot, Embedding, Flatten\n",
        "from tensorflow.keras.layers.experimental.preprocessing import TextVectorization"
      ],
      "metadata": {
        "id": "lsAV7BA49sxe"
      },
      "execution_count": null,
      "outputs": []
    },
    {
      "cell_type": "markdown",
      "source": [
        "## TensorBoard 로드"
      ],
      "metadata": {
        "id": "8N6Fl4na9tOS"
      }
    },
    {
      "cell_type": "code",
      "source": [
        "# Load the TensorBoard notebook extension\n",
        "%load_ext tensorboard"
      ],
      "metadata": {
        "id": "712wG4WM9tpe"
      },
      "execution_count": null,
      "outputs": []
    },
    {
      "cell_type": "code",
      "source": [
        "SEED = 42\n",
        "AUTOTUNE = tf.data.AUTOTUNE"
      ],
      "metadata": {
        "id": "bttjzyYe9uhC"
      },
      "execution_count": null,
      "outputs": []
    },
    {
      "cell_type": "markdown",
      "source": [
        "## 단어 Tokenizing"
      ],
      "metadata": {
        "id": "o1RS0mQC9y1L"
      }
    },
    {
      "cell_type": "code",
      "source": [
        "sentence = \"The wide road shimmered in the hot sun\"\n",
        "tokens = list(sentence.lower().split())\n",
        "print(len(tokens))\n",
        "print(tokens)"
      ],
      "metadata": {
        "colab": {
          "base_uri": "https://localhost:8080/"
        },
        "id": "E15hR8zr9zM6",
        "outputId": "3ad22560-d063-47d0-9d6c-d72a18d9e0fe"
      },
      "execution_count": null,
      "outputs": [
        {
          "output_type": "stream",
          "name": "stdout",
          "text": [
            "8\n",
            "['the', 'wide', 'road', 'shimmered', 'in', 'the', 'hot', 'sun']\n"
          ]
        }
      ]
    },
    {
      "cell_type": "markdown",
      "source": [
        "## 단어별 id 부여 및 vocab dictionary 생성"
      ],
      "metadata": {
        "id": "fj8Y2BsR9zYV"
      }
    },
    {
      "cell_type": "code",
      "source": [
        "vocab, index = {}, 1 # start indexing from 1\n",
        "vocab['<pad>'] = 0 # add a paddingd token, 패딩이란 글자 길이 보정해주는 특수토큰\n",
        "for token in tokens:\n",
        "  if token not in vocab:\n",
        "    vocab[token] = index\n",
        "    index += 1\n",
        "vocab_size = len(vocab)\n",
        "print(vocab)"
      ],
      "metadata": {
        "colab": {
          "base_uri": "https://localhost:8080/"
        },
        "id": "K3VYGgu19zhc",
        "outputId": "feaad2dc-848e-4dd7-ea81-03365ae11cce"
      },
      "execution_count": null,
      "outputs": [
        {
          "output_type": "stream",
          "name": "stdout",
          "text": [
            "{'<pad>': 0, 'the': 1, 'wide': 2, 'road': 3, 'shimmered': 4, 'in': 5, 'hot': 6, 'sun': 7}\n"
          ]
        }
      ]
    },
    {
      "cell_type": "markdown",
      "source": [
        "## inverse dictionary 설정"
      ],
      "metadata": {
        "id": "OVjd_dwu9z1b"
      }
    },
    {
      "cell_type": "code",
      "source": [
        "inverse_vocab = {index: token for token, index in vocab.items()}\n",
        "print(inverse_vocab)"
      ],
      "metadata": {
        "id": "kUTVa4xm9z-Y",
        "colab": {
          "base_uri": "https://localhost:8080/"
        },
        "outputId": "420be13c-9232-475b-d363-397288894b75"
      },
      "execution_count": null,
      "outputs": [
        {
          "output_type": "stream",
          "name": "stdout",
          "text": [
            "{0: '<pad>', 1: 'the', 2: 'wide', 3: 'road', 4: 'shimmered', 5: 'in', 6: 'hot', 7: 'sun'}\n"
          ]
        }
      ]
    },
    {
      "cell_type": "code",
      "source": [
        "example_sequence = [vocab[word] for word in tokens]\n",
        "print(example_sequence)"
      ],
      "metadata": {
        "id": "e1FHCKvI90Gz",
        "colab": {
          "base_uri": "https://localhost:8080/"
        },
        "outputId": "824d4f26-e9f5-4ebd-82eb-cd7546c6afb7"
      },
      "execution_count": null,
      "outputs": [
        {
          "output_type": "stream",
          "name": "stdout",
          "text": [
            "[1, 2, 3, 4, 5, 1, 6, 7]\n"
          ]
        }
      ]
    },
    {
      "cell_type": "markdown",
      "source": [
        "## Skip-gram 모델을 위한 target, context 쌍 생성"
      ],
      "metadata": {
        "id": "jxL9arRn90QW"
      }
    },
    {
      "cell_type": "code",
      "source": [
        "print(sentence)"
      ],
      "metadata": {
        "id": "KPhMlyRd90ZW",
        "colab": {
          "base_uri": "https://localhost:8080/"
        },
        "outputId": "9658a021-5784-4e95-e3cf-dbe53ffebac4"
      },
      "execution_count": null,
      "outputs": [
        {
          "output_type": "stream",
          "name": "stdout",
          "text": [
            "The wide road shimmered in the hot sun\n"
          ]
        }
      ]
    },
    {
      "cell_type": "code",
      "source": [
        "window_size = 2\n",
        "positive_skip_grams, _ = tf.keras.preprocessing.sequence.skipgrams(\n",
        "          example_sequence,\n",
        "          vocabulary_size=vocab_size,\n",
        "          window_size=window_size,\n",
        "          negative_samples=0)\n",
        "print(len(positive_skip_grams))"
      ],
      "metadata": {
        "id": "RXm7iy4a90iI",
        "colab": {
          "base_uri": "https://localhost:8080/"
        },
        "outputId": "84e7e2ab-1f47-41a4-d97a-c6907105d643"
      },
      "execution_count": null,
      "outputs": [
        {
          "output_type": "stream",
          "name": "stdout",
          "text": [
            "26\n"
          ]
        }
      ]
    },
    {
      "cell_type": "code",
      "source": [
        "for target, context in positive_skip_grams[:5]:\n",
        "  print(f\"({target}, {context}): ({inverse_vocab[target]}, {inverse_vocab[context]})\")"
      ],
      "metadata": {
        "id": "gUp6Ekeu90qU",
        "colab": {
          "base_uri": "https://localhost:8080/"
        },
        "outputId": "f5aad4b9-1398-4bc6-a2a1-38e0c3425862"
      },
      "execution_count": null,
      "outputs": [
        {
          "output_type": "stream",
          "name": "stdout",
          "text": [
            "(6, 7): (hot, sun)\n",
            "(2, 3): (wide, road)\n",
            "(1, 6): (the, hot)\n",
            "(1, 7): (the, sun)\n",
            "(7, 1): (sun, the)\n"
          ]
        }
      ]
    },
    {
      "cell_type": "markdown",
      "source": [
        "## 학습을 위한 Negative Sampling"
      ],
      "metadata": {
        "id": "HnMtePtC90y0"
      }
    },
    {
      "cell_type": "code",
      "source": [
        "# Get target and context words for one positive skip-gram.\n",
        "target_word, context_word = positive_skip_grams[0]\n",
        "\n",
        "# Set the number of negative samples per positive context.\n",
        "# positive example 1개당 4개의 negative example을 부여합니다.\n",
        "num_ns = 4\n",
        "\n",
        "context_class = tf.reshape(tf.constant(context_word, dtype=\"int64\"), (1, 1))\n",
        "negative_sampling_candidates, _, _ = tf.random.log_uniform_candidate_sampler(\n",
        "    true_classes=context_class,  # class that should be sampled as 'positive'\n",
        "    num_true=1,  # each positive skip-gram has 1 positive context class\n",
        "    num_sampled=num_ns,  # number of negative context words to sample\n",
        "    unique=True,  # all the negative samples should be unique\n",
        "    range_max=vocab_size,  # pick index of the samples from [0, vocab_size]\n",
        "    seed=SEED,  # seed for reproducibility\n",
        "    name=\"negative_sampling\"  # name of this operation\n",
        ")\n",
        "print(negative_sampling_candidates)\n",
        "print([inverse_vocab[index.numpy()] for index in negative_sampling_candidates])"
      ],
      "metadata": {
        "id": "M430hj66907U",
        "colab": {
          "base_uri": "https://localhost:8080/"
        },
        "outputId": "a1426130-7c9d-4106-fd78-e9487c1381f5"
      },
      "execution_count": null,
      "outputs": [
        {
          "output_type": "stream",
          "name": "stdout",
          "text": [
            "tf.Tensor([2 1 4 3], shape=(4,), dtype=int64)\n",
            "['wide', 'the', 'shimmered', 'road']\n"
          ]
        }
      ]
    },
    {
      "cell_type": "markdown",
      "source": [
        "## Negative Example을 포함한 학습 데이터셋을 구성 "
      ],
      "metadata": {
        "id": "faBbUidM91ES"
      }
    },
    {
      "cell_type": "code",
      "source": [
        "# Add a dimension so you can use concatenation (on the next step).\n",
        "negative_sampling_candidates = tf.expand_dims(negative_sampling_candidates, 1)\n",
        "\n",
        "# Concat positive context word with negative sampled words.\n",
        "context = tf.concat([context_class, negative_sampling_candidates], 0)\n",
        "\n",
        "# Label first context word as 1 (positive) followed by num_ns 0s (negative).\n",
        "label = tf.constant([1] + [0]*num_ns, dtype=\"int64\")\n",
        "\n",
        "# Reshape target to shape (1,) and context and label to (num_ns+1,),\n",
        "target = tf.squeeze(target_word)\n",
        "context = tf.squeeze(context)\n",
        "label = tf.squeeze(label)"
      ],
      "metadata": {
        "id": "HXsxL7Le91MZ"
      },
      "execution_count": 16,
      "outputs": []
    },
    {
      "cell_type": "code",
      "source": [
        "print(f\"target_index    : {target}\")\n",
        "print(f\"target_word     : {inverse_vocab[target_word]}\")\n",
        "print(f\"context_indices : {context}\")\n",
        "print(f\"context_words   : {[inverse_vocab[c.numpy()] for c in context]}\")\n",
        "print(f\"label           : {label}\")"
      ],
      "metadata": {
        "id": "x6h_5wYv91Ub",
        "colab": {
          "base_uri": "https://localhost:8080/"
        },
        "outputId": "d3e465e8-8b0e-435e-d370-94d3aaa03373"
      },
      "execution_count": 17,
      "outputs": [
        {
          "output_type": "stream",
          "name": "stdout",
          "text": [
            "target_index    : 6\n",
            "target_word     : hot\n",
            "context_indices : [7 2 1 4 3]\n",
            "context_words   : ['sun', 'wide', 'the', 'shimmered', 'road']\n",
            "label           : [1 0 0 0 0]\n"
          ]
        }
      ]
    },
    {
      "cell_type": "code",
      "source": [
        "print(\"target :\", target)\n",
        "print(\"contet :\", context)\n",
        "print(\"label   :\", label)"
      ],
      "metadata": {
        "id": "ved3-F_391cN",
        "colab": {
          "base_uri": "https://localhost:8080/"
        },
        "outputId": "d7b0c50d-b1e2-4e95-f552-7f9ce9361999"
      },
      "execution_count": 18,
      "outputs": [
        {
          "output_type": "stream",
          "name": "stdout",
          "text": [
            "target : tf.Tensor(6, shape=(), dtype=int32)\n",
            "contet : tf.Tensor([7 2 1 4 3], shape=(5,), dtype=int64)\n",
            "label   : tf.Tensor([1 0 0 0 0], shape=(5,), dtype=int64)\n"
          ]
        }
      ]
    },
    {
      "cell_type": "markdown",
      "source": [
        "## 학습용 데이터셋 형상 요약"
      ],
      "metadata": {
        "id": "duLHFdiR91kK"
      }
    },
    {
      "cell_type": "markdown",
      "source": [
        "![image.png](https://www.tensorflow.org/tutorials/text/images/word2vec_negative_sampling.png)"
      ],
      "metadata": {
        "id": "v7rZO2_d91sD"
      }
    },
    {
      "cell_type": "markdown",
      "source": [],
      "metadata": {
        "id": "SkE2lHTcch5O"
      }
    },
    {
      "cell_type": "markdown",
      "source": [
        "# 어휘(Vocabulary)별 가중치 적용하기\n",
        "## 'the','is','on' 같은 단어들은 출현빈도는 높지만 새로운 정보는 많이 제공하지 못합니다. 따라서 단어별 가중치 정도를 적용해줍니다."
      ],
      "metadata": {
        "id": "8PS2ReQDcSJE"
      }
    },
    {
      "cell_type": "code",
      "source": [
        "sampling_table = tf.keras.preprocessing.sequence.make_sampling_table(size=10)\n",
        "print(sampling_table)"
      ],
      "metadata": {
        "colab": {
          "base_uri": "https://localhost:8080/"
        },
        "id": "bU-zCsc8cj-F",
        "outputId": "1308d174-1113-40e0-88e5-7c3c6d52ca1e"
      },
      "execution_count": 19,
      "outputs": [
        {
          "output_type": "stream",
          "name": "stdout",
          "text": [
            "[0.00315225 0.00315225 0.00547597 0.00741556 0.00912817 0.01068435\n",
            " 0.01212381 0.01347162 0.01474487 0.0159558 ]\n"
          ]
        }
      ]
    },
    {
      "cell_type": "code",
      "source": [
        "# Generates skip-gram pairs with negative sampling for a list of sequences\n",
        "# (int-encoded sentences) based on window size, number of negative samples\n",
        "# and vocabulary size.\n",
        "def generate_training_data(sequences, window_size, num_ns, vocab_size, seed):"
      ],
      "metadata": {
        "id": "V9heLBFQckF6"
      },
      "execution_count": null,
      "outputs": []
    },
    {
      "cell_type": "code",
      "source": [],
      "metadata": {
        "id": "UQJ-dv9XckNB"
      },
      "execution_count": null,
      "outputs": []
    },
    {
      "cell_type": "code",
      "source": [],
      "metadata": {
        "id": "YXNf4Mq_ckTR"
      },
      "execution_count": null,
      "outputs": []
    },
    {
      "cell_type": "code",
      "source": [],
      "metadata": {
        "id": "WTE1BKd2ckZ8"
      },
      "execution_count": null,
      "outputs": []
    },
    {
      "cell_type": "code",
      "source": [],
      "metadata": {
        "id": "qg1Cb9AYckft"
      },
      "execution_count": null,
      "outputs": []
    },
    {
      "cell_type": "code",
      "source": [],
      "metadata": {
        "id": "9NzlIGetckmW"
      },
      "execution_count": null,
      "outputs": []
    },
    {
      "cell_type": "code",
      "source": [],
      "metadata": {
        "id": "w3HJibd5cktH"
      },
      "execution_count": null,
      "outputs": []
    },
    {
      "cell_type": "code",
      "source": [],
      "metadata": {
        "id": "82oSZF6wck0m"
      },
      "execution_count": null,
      "outputs": []
    },
    {
      "cell_type": "markdown",
      "source": [],
      "metadata": {
        "id": "D5zLKavLck7I"
      }
    },
    {
      "cell_type": "code",
      "source": [],
      "metadata": {
        "id": "QnUC8Qxmcl3j"
      },
      "execution_count": null,
      "outputs": []
    },
    {
      "cell_type": "code",
      "source": [],
      "metadata": {
        "id": "SR5lMxVWcmQI"
      },
      "execution_count": null,
      "outputs": []
    }
  ]
}