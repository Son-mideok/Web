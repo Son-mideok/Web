{
  "cells": [
    {
      "cell_type": "markdown",
      "metadata": {
        "id": "view-in-github",
        "colab_type": "text"
      },
      "source": [
        "<a href=\"https://colab.research.google.com/github/Son-mideok/e-Learning/blob/main/2_%EB%8D%B0%EC%9D%B4%ED%84%B0%EB%B6%84%EC%84%9D_02_%EB%9D%BC%EC%9D%B4%EB%B8%8C%EB%9F%AC%EB%A6%AC_Matplotlib_%EB%B0%B0%ED%8F%AC.ipynb\" target=\"_parent\"><img src=\"https://colab.research.google.com/assets/colab-badge.svg\" alt=\"Open In Colab\"/></a>"
      ]
    },
    {
      "cell_type": "markdown",
      "id": "6c983c03",
      "metadata": {
        "id": "6c983c03"
      },
      "source": [
        "# Matplotlib - 데이터 시각화\n",
        "교재: 데이터 과학을 위한 파이썬 머신러닝(chapter5)"
      ]
    },
    {
      "cell_type": "markdown",
      "id": "9476178e",
      "metadata": {
        "id": "9476178e"
      },
      "source": [
        "- <a href=\"#05.1맷플롯립\">05.1 맷플롯립</a>\n",
        "- <a href=\"#05.2시본\">05.2 시본</a>\n",
        "- <a href=\"#05.3플롯리\">05.3 플롯리</a>\n",
        "- <a href=\"#예제:전세계행복지수\">예제: 전세계행복지수 분석</a>"
      ]
    },
    {
      "cell_type": "markdown",
      "id": "330e9146",
      "metadata": {
        "id": "330e9146"
      },
      "source": [
        "---------------"
      ]
    },
    {
      "cell_type": "markdown",
      "id": "07cd7ca1",
      "metadata": {
        "id": "07cd7ca1"
      },
      "source": [
        "### 라이브러리 설치"
      ]
    },
    {
      "cell_type": "code",
      "execution_count": 1,
      "id": "10194609",
      "metadata": {
        "collapsed": true,
        "colab": {
          "base_uri": "https://localhost:8080/"
        },
        "id": "10194609",
        "outputId": "28f6147f-4c1c-4edd-e34b-d1cd50023598"
      },
      "outputs": [
        {
          "output_type": "stream",
          "name": "stdout",
          "text": [
            "Requirement already satisfied: matplotlib in /usr/local/lib/python3.10/dist-packages (3.7.1)\n",
            "Requirement already satisfied: contourpy>=1.0.1 in /usr/local/lib/python3.10/dist-packages (from matplotlib) (1.2.1)\n",
            "Requirement already satisfied: cycler>=0.10 in /usr/local/lib/python3.10/dist-packages (from matplotlib) (0.12.1)\n",
            "Requirement already satisfied: fonttools>=4.22.0 in /usr/local/lib/python3.10/dist-packages (from matplotlib) (4.51.0)\n",
            "Requirement already satisfied: kiwisolver>=1.0.1 in /usr/local/lib/python3.10/dist-packages (from matplotlib) (1.4.5)\n",
            "Requirement already satisfied: numpy>=1.20 in /usr/local/lib/python3.10/dist-packages (from matplotlib) (1.25.2)\n",
            "Requirement already satisfied: packaging>=20.0 in /usr/local/lib/python3.10/dist-packages (from matplotlib) (24.0)\n",
            "Requirement already satisfied: pillow>=6.2.0 in /usr/local/lib/python3.10/dist-packages (from matplotlib) (9.4.0)\n",
            "Requirement already satisfied: pyparsing>=2.3.1 in /usr/local/lib/python3.10/dist-packages (from matplotlib) (3.1.2)\n",
            "Requirement already satisfied: python-dateutil>=2.7 in /usr/local/lib/python3.10/dist-packages (from matplotlib) (2.8.2)\n",
            "Requirement already satisfied: six>=1.5 in /usr/local/lib/python3.10/dist-packages (from python-dateutil>=2.7->matplotlib) (1.16.0)\n"
          ]
        }
      ],
      "source": [
        "!pip install matplotlib"
      ]
    },
    {
      "cell_type": "code",
      "execution_count": 2,
      "id": "eacbe3e7",
      "metadata": {
        "collapsed": true,
        "colab": {
          "base_uri": "https://localhost:8080/"
        },
        "id": "eacbe3e7",
        "outputId": "571534c6-9a6f-4d21-9493-50c290cbd0d6"
      },
      "outputs": [
        {
          "output_type": "stream",
          "name": "stdout",
          "text": [
            "Requirement already satisfied: seaborn in /usr/local/lib/python3.10/dist-packages (0.13.1)\n",
            "Requirement already satisfied: numpy!=1.24.0,>=1.20 in /usr/local/lib/python3.10/dist-packages (from seaborn) (1.25.2)\n",
            "Requirement already satisfied: pandas>=1.2 in /usr/local/lib/python3.10/dist-packages (from seaborn) (2.0.3)\n",
            "Requirement already satisfied: matplotlib!=3.6.1,>=3.4 in /usr/local/lib/python3.10/dist-packages (from seaborn) (3.7.1)\n",
            "Requirement already satisfied: contourpy>=1.0.1 in /usr/local/lib/python3.10/dist-packages (from matplotlib!=3.6.1,>=3.4->seaborn) (1.2.1)\n",
            "Requirement already satisfied: cycler>=0.10 in /usr/local/lib/python3.10/dist-packages (from matplotlib!=3.6.1,>=3.4->seaborn) (0.12.1)\n",
            "Requirement already satisfied: fonttools>=4.22.0 in /usr/local/lib/python3.10/dist-packages (from matplotlib!=3.6.1,>=3.4->seaborn) (4.51.0)\n",
            "Requirement already satisfied: kiwisolver>=1.0.1 in /usr/local/lib/python3.10/dist-packages (from matplotlib!=3.6.1,>=3.4->seaborn) (1.4.5)\n",
            "Requirement already satisfied: packaging>=20.0 in /usr/local/lib/python3.10/dist-packages (from matplotlib!=3.6.1,>=3.4->seaborn) (24.0)\n",
            "Requirement already satisfied: pillow>=6.2.0 in /usr/local/lib/python3.10/dist-packages (from matplotlib!=3.6.1,>=3.4->seaborn) (9.4.0)\n",
            "Requirement already satisfied: pyparsing>=2.3.1 in /usr/local/lib/python3.10/dist-packages (from matplotlib!=3.6.1,>=3.4->seaborn) (3.1.2)\n",
            "Requirement already satisfied: python-dateutil>=2.7 in /usr/local/lib/python3.10/dist-packages (from matplotlib!=3.6.1,>=3.4->seaborn) (2.8.2)\n",
            "Requirement already satisfied: pytz>=2020.1 in /usr/local/lib/python3.10/dist-packages (from pandas>=1.2->seaborn) (2023.4)\n",
            "Requirement already satisfied: tzdata>=2022.1 in /usr/local/lib/python3.10/dist-packages (from pandas>=1.2->seaborn) (2024.1)\n",
            "Requirement already satisfied: six>=1.5 in /usr/local/lib/python3.10/dist-packages (from python-dateutil>=2.7->matplotlib!=3.6.1,>=3.4->seaborn) (1.16.0)\n"
          ]
        }
      ],
      "source": [
        "!pip install seaborn"
      ]
    },
    {
      "cell_type": "code",
      "execution_count": 3,
      "id": "a51473ca",
      "metadata": {
        "colab": {
          "base_uri": "https://localhost:8080/"
        },
        "id": "a51473ca",
        "outputId": "e8962290-2925-4cd6-e68e-e1564f6f176e"
      },
      "outputs": [
        {
          "output_type": "stream",
          "name": "stdout",
          "text": [
            "Requirement already satisfied: seaborn in /usr/local/lib/python3.10/dist-packages (0.13.1)\n",
            "Requirement already satisfied: numpy!=1.24.0,>=1.20 in /usr/local/lib/python3.10/dist-packages (from seaborn) (1.25.2)\n",
            "Requirement already satisfied: pandas>=1.2 in /usr/local/lib/python3.10/dist-packages (from seaborn) (2.0.3)\n",
            "Requirement already satisfied: matplotlib!=3.6.1,>=3.4 in /usr/local/lib/python3.10/dist-packages (from seaborn) (3.7.1)\n",
            "Requirement already satisfied: contourpy>=1.0.1 in /usr/local/lib/python3.10/dist-packages (from matplotlib!=3.6.1,>=3.4->seaborn) (1.2.1)\n",
            "Requirement already satisfied: cycler>=0.10 in /usr/local/lib/python3.10/dist-packages (from matplotlib!=3.6.1,>=3.4->seaborn) (0.12.1)\n",
            "Requirement already satisfied: fonttools>=4.22.0 in /usr/local/lib/python3.10/dist-packages (from matplotlib!=3.6.1,>=3.4->seaborn) (4.51.0)\n",
            "Requirement already satisfied: kiwisolver>=1.0.1 in /usr/local/lib/python3.10/dist-packages (from matplotlib!=3.6.1,>=3.4->seaborn) (1.4.5)\n",
            "Requirement already satisfied: packaging>=20.0 in /usr/local/lib/python3.10/dist-packages (from matplotlib!=3.6.1,>=3.4->seaborn) (24.0)\n",
            "Requirement already satisfied: pillow>=6.2.0 in /usr/local/lib/python3.10/dist-packages (from matplotlib!=3.6.1,>=3.4->seaborn) (9.4.0)\n",
            "Requirement already satisfied: pyparsing>=2.3.1 in /usr/local/lib/python3.10/dist-packages (from matplotlib!=3.6.1,>=3.4->seaborn) (3.1.2)\n",
            "Requirement already satisfied: python-dateutil>=2.7 in /usr/local/lib/python3.10/dist-packages (from matplotlib!=3.6.1,>=3.4->seaborn) (2.8.2)\n",
            "Requirement already satisfied: pytz>=2020.1 in /usr/local/lib/python3.10/dist-packages (from pandas>=1.2->seaborn) (2023.4)\n",
            "Requirement already satisfied: tzdata>=2022.1 in /usr/local/lib/python3.10/dist-packages (from pandas>=1.2->seaborn) (2024.1)\n",
            "Requirement already satisfied: six>=1.5 in /usr/local/lib/python3.10/dist-packages (from python-dateutil>=2.7->matplotlib!=3.6.1,>=3.4->seaborn) (1.16.0)\n"
          ]
        }
      ],
      "source": [
        "!pip install seaborn"
      ]
    },
    {
      "cell_type": "code",
      "source": [
        "!pip install plotly"
      ],
      "metadata": {
        "colab": {
          "base_uri": "https://localhost:8080/"
        },
        "id": "PC38DalMbQc4",
        "outputId": "9df85b44-3674-4335-96a5-402e7217d88f"
      },
      "id": "PC38DalMbQc4",
      "execution_count": 4,
      "outputs": [
        {
          "output_type": "stream",
          "name": "stdout",
          "text": [
            "Requirement already satisfied: plotly in /usr/local/lib/python3.10/dist-packages (5.15.0)\n",
            "Requirement already satisfied: tenacity>=6.2.0 in /usr/local/lib/python3.10/dist-packages (from plotly) (8.2.3)\n",
            "Requirement already satisfied: packaging in /usr/local/lib/python3.10/dist-packages (from plotly) (24.0)\n"
          ]
        }
      ]
    },
    {
      "cell_type": "code",
      "source": [
        "import matplotlib\n",
        "import seaborn\n",
        "import plotly\n",
        "print(matplotlib.___version)"
      ],
      "metadata": {
        "colab": {
          "base_uri": "https://localhost:8080/",
          "height": 311
        },
        "id": "MUSN3g1cbW4p",
        "outputId": "dcc0e9f5-7edf-417b-c110-cbbcfa872d22"
      },
      "id": "MUSN3g1cbW4p",
      "execution_count": 7,
      "outputs": [
        {
          "output_type": "error",
          "ename": "AttributeError",
          "evalue": "module 'matplotlib' has no attribute '___version'",
          "traceback": [
            "\u001b[0;31m---------------------------------------------------------------------------\u001b[0m",
            "\u001b[0;31mAttributeError\u001b[0m                            Traceback (most recent call last)",
            "\u001b[0;32m<ipython-input-7-fb77d474bef5>\u001b[0m in \u001b[0;36m<cell line: 4>\u001b[0;34m()\u001b[0m\n\u001b[1;32m      2\u001b[0m \u001b[0;32mimport\u001b[0m \u001b[0mseaborn\u001b[0m\u001b[0;34m\u001b[0m\u001b[0;34m\u001b[0m\u001b[0m\n\u001b[1;32m      3\u001b[0m \u001b[0;32mimport\u001b[0m \u001b[0mplotly\u001b[0m\u001b[0;34m\u001b[0m\u001b[0;34m\u001b[0m\u001b[0m\n\u001b[0;32m----> 4\u001b[0;31m \u001b[0mprint\u001b[0m\u001b[0;34m(\u001b[0m\u001b[0mmatplotlib\u001b[0m\u001b[0;34m.\u001b[0m\u001b[0m___version\u001b[0m\u001b[0;34m)\u001b[0m\u001b[0;34m\u001b[0m\u001b[0;34m\u001b[0m\u001b[0m\n\u001b[0m",
            "\u001b[0;32m/usr/local/lib/python3.10/dist-packages/matplotlib/_api/__init__.py\u001b[0m in \u001b[0;36m__getattr__\u001b[0;34m(name)\u001b[0m\n\u001b[1;32m    224\u001b[0m         \u001b[0;32mif\u001b[0m \u001b[0mname\u001b[0m \u001b[0;32min\u001b[0m \u001b[0mprops\u001b[0m\u001b[0;34m:\u001b[0m\u001b[0;34m\u001b[0m\u001b[0;34m\u001b[0m\u001b[0m\n\u001b[1;32m    225\u001b[0m             \u001b[0;32mreturn\u001b[0m \u001b[0mprops\u001b[0m\u001b[0;34m[\u001b[0m\u001b[0mname\u001b[0m\u001b[0;34m]\u001b[0m\u001b[0;34m.\u001b[0m\u001b[0m__get__\u001b[0m\u001b[0;34m(\u001b[0m\u001b[0minstance\u001b[0m\u001b[0;34m)\u001b[0m\u001b[0;34m\u001b[0m\u001b[0;34m\u001b[0m\u001b[0m\n\u001b[0;32m--> 226\u001b[0;31m         raise AttributeError(\n\u001b[0m\u001b[1;32m    227\u001b[0m             f\"module {cls.__module__!r} has no attribute {name!r}\")\n\u001b[1;32m    228\u001b[0m \u001b[0;34m\u001b[0m\u001b[0m\n",
            "\u001b[0;31mAttributeError\u001b[0m: module 'matplotlib' has no attribute '___version'"
          ]
        }
      ]
    },
    {
      "cell_type": "markdown",
      "id": "dfed0735",
      "metadata": {
        "id": "dfed0735"
      },
      "source": [
        "#### 한글 폰트 사용"
      ]
    },
    {
      "cell_type": "code",
      "source": [
        "# (코랩) 한글 폰트 사용 : 한글폰트 설치 --> 런타임 재시작 --> 코드 실행\n",
        "# 코드 실행 후 재시작\n",
        "!sudo apt-get install -y fonts-nanum\n",
        "!sudo fc-cache -fv\n",
        "!rm ~/.cache/matplotlib -rf"
      ],
      "metadata": {
        "colab": {
          "base_uri": "https://localhost:8080/"
        },
        "id": "kMAo09dkcAnf",
        "outputId": "64ba9ee1-0534-4c75-b6e7-e3c3f2723f16"
      },
      "id": "kMAo09dkcAnf",
      "execution_count": 6,
      "outputs": [
        {
          "output_type": "stream",
          "name": "stdout",
          "text": [
            "Reading package lists... Done\n",
            "Building dependency tree... Done\n",
            "Reading state information... Done\n",
            "fonts-nanum is already the newest version (20200506-1).\n",
            "0 upgraded, 0 newly installed, 0 to remove and 45 not upgraded.\n",
            "/usr/share/fonts: caching, new cache contents: 0 fonts, 1 dirs\n",
            "/usr/share/fonts/truetype: caching, new cache contents: 0 fonts, 3 dirs\n",
            "/usr/share/fonts/truetype/humor-sans: caching, new cache contents: 1 fonts, 0 dirs\n",
            "/usr/share/fonts/truetype/liberation: caching, new cache contents: 16 fonts, 0 dirs\n",
            "/usr/share/fonts/truetype/nanum: caching, new cache contents: 12 fonts, 0 dirs\n",
            "/usr/local/share/fonts: caching, new cache contents: 0 fonts, 0 dirs\n",
            "/root/.local/share/fonts: skipping, no such directory\n",
            "/root/.fonts: skipping, no such directory\n",
            "/usr/share/fonts/truetype: skipping, looped directory detected\n",
            "/usr/share/fonts/truetype/humor-sans: skipping, looped directory detected\n",
            "/usr/share/fonts/truetype/liberation: skipping, looped directory detected\n",
            "/usr/share/fonts/truetype/nanum: skipping, looped directory detected\n",
            "/var/cache/fontconfig: cleaning cache directory\n",
            "/root/.cache/fontconfig: not cleaning non-existent cache directory\n",
            "/root/.fontconfig: not cleaning non-existent cache directory\n",
            "fc-cache: succeeded\n"
          ]
        }
      ]
    },
    {
      "cell_type": "code",
      "execution_count": 5,
      "id": "d93227d1",
      "metadata": {
        "colab": {
          "base_uri": "https://localhost:8080/"
        },
        "id": "d93227d1",
        "outputId": "ed3f4a4e-b046-4578-bbae-14ee494a69cf"
      },
      "outputs": [
        {
          "output_type": "stream",
          "name": "stdout",
          "text": [
            "/usr/share/fonts/truetype/liberation/LiberationSansNarrow-Italic.ttf\n",
            "/usr/share/fonts/truetype/nanum/NanumGothicCodingBold.ttf\n",
            "/usr/share/fonts/truetype/liberation/LiberationMono-Bold.ttf\n",
            "/usr/share/fonts/truetype/liberation/LiberationSansNarrow-Regular.ttf\n",
            "/usr/share/fonts/truetype/liberation/LiberationSerif-BoldItalic.ttf\n",
            "/usr/share/fonts/truetype/nanum/NanumGothic.ttf\n",
            "/usr/share/fonts/truetype/liberation/LiberationMono-BoldItalic.ttf\n",
            "/usr/share/fonts/truetype/liberation/LiberationSans-Italic.ttf\n",
            "/usr/share/fonts/truetype/liberation/LiberationSerif-Bold.ttf\n",
            "/usr/share/fonts/truetype/nanum/NanumSquareRoundB.ttf\n",
            "/usr/share/fonts/truetype/nanum/NanumBarunGothic.ttf\n",
            "/usr/share/fonts/truetype/nanum/NanumSquareR.ttf\n",
            "/usr/share/fonts/truetype/liberation/LiberationSans-Regular.ttf\n",
            "/usr/share/fonts/truetype/nanum/NanumMyeongjoBold.ttf\n",
            "/usr/share/fonts/truetype/liberation/LiberationSansNarrow-Bold.ttf\n",
            "/usr/share/fonts/truetype/liberation/LiberationSans-Bold.ttf\n",
            "/usr/share/fonts/truetype/nanum/NanumMyeongjo.ttf\n",
            "/usr/share/fonts/truetype/humor-sans/Humor-Sans.ttf\n",
            "/usr/share/fonts/truetype/nanum/NanumGothicBold.ttf\n",
            "/usr/share/fonts/truetype/liberation/LiberationSerif-Italic.ttf\n",
            "/usr/share/fonts/truetype/liberation/LiberationSans-BoldItalic.ttf\n",
            "/usr/share/fonts/truetype/nanum/NanumBarunGothicBold.ttf\n",
            "/usr/share/fonts/truetype/liberation/LiberationSansNarrow-BoldItalic.ttf\n",
            "/usr/share/fonts/truetype/nanum/NanumSquareRoundR.ttf\n",
            "/usr/share/fonts/truetype/liberation/LiberationSerif-Regular.ttf\n",
            "/usr/share/fonts/truetype/nanum/NanumSquareB.ttf\n",
            "/usr/share/fonts/truetype/liberation/LiberationMono-Italic.ttf\n",
            "/usr/share/fonts/truetype/nanum/NanumGothicCoding.ttf\n",
            "/usr/share/fonts/truetype/liberation/LiberationMono-Regular.ttf\n"
          ]
        }
      ],
      "source": [
        "# 설치된 폰트 출력\n",
        "font_list = fm.findSystemFonts(fontpaths=None, fontext='ttf')\n",
        "\n",
        "for font in font_list:\n",
        "    print(font)"
      ]
    },
    {
      "cell_type": "code",
      "execution_count": null,
      "id": "29ff8698",
      "metadata": {
        "id": "29ff8698"
      },
      "outputs": [],
      "source": [
        "# 한글 폰트 사용\n"
      ]
    },
    {
      "cell_type": "markdown",
      "id": "455016db",
      "metadata": {
        "id": "455016db"
      },
      "source": [
        "------------------------------"
      ]
    },
    {
      "cell_type": "markdown",
      "id": "dd312d9d",
      "metadata": {
        "id": "dd312d9d"
      },
      "source": [
        "## <a name=\"05.1맷플롯립\">05.1 맷플롯립</a>"
      ]
    },
    {
      "cell_type": "markdown",
      "id": "75bca232",
      "metadata": {
        "id": "75bca232"
      },
      "source": [
        "### 1. 맷플롯립의 구조\n",
        "- 맷플롯립(matplotlib) : 매트랩(matlab) 기능을 파이썬에서 그대로 사용하도록 하는 시각화 모듈\n",
        "- MATLAB: 매스웍스에서 개발한 수치 해석 및 프로그래밍 환경을 제공하는 공학용 소프트웨어. 행렬을 기반으로 한 계산 기능을 지원하며 함수나 데이터를 그림으로 그리는 기능 및 프로그래밍을 통한 알고리즘 구현 등을 제공함\n",
        "- 매트랩을 포장(wrapping)해서 맷플롯립을 지원\n",
        " - - import matplotlib.pyplot as plt\n",
        "<br><br>\n",
        "- https://matplotlib.org/cheatsheets/_images/cheatsheets-1.png\n",
        "- https://matplotlib.org/cheatsheets/_images/cheatsheets-2.png"
      ]
    },
    {
      "cell_type": "markdown",
      "id": "1ce1698e",
      "metadata": {
        "id": "1ce1698e"
      },
      "source": [
        "#### 1.1 pyplot\n",
        "- 맷플롯립을 이용할 때 가장 기본이 되는 객체\n",
        "- 파이플롯(pyplot) 위에 그림(figure) 객체를 올리고 그 위에 그래프에 해당하는 축(axes)을 올림\n",
        "- 그림 위에 축을 여러 장 올리면 여러 개의 그래프 작성"
      ]
    },
    {
      "cell_type": "code",
      "execution_count": 6,
      "id": "318941c3",
      "metadata": {
        "colab": {
          "base_uri": "https://localhost:8080/",
          "height": 605
        },
        "id": "318941c3",
        "outputId": "2b7b2977-f10e-4b9b-fa65-fe6e2a1b7c60"
      },
      "outputs": [
        {
          "output_type": "display_data",
          "data": {
            "text/plain": [
              "<Figure size 500x300 with 1 Axes>"
            ],
            "image/png": "[encoded data removed]"
          },
          "metadata": {}
        },
        {
          "output_type": "execute_result",
          "data": {
            "text/plain": [
              "Text(0.5, 1.0, '선그래프')"
            ]
          },
          "metadata": {},
          "execution_count": 6
        },
        {
          "output_type": "display_data",
          "data": {
            "text/plain": [
              "<Figure size 500x300 with 1 Axes>"
            ],
            "image/png": "[encoded data removed]"
          },
          "metadata": {}
        }
      ],
      "source": [
        "# matplotlib 모듈 호출\n",
        "import matplotlib.pyplot as plt\n",
        "\n",
        "plt.rcParams['font.family'] = 'NanumbarunGothic'\n",
        "plt.rcParams['figure.figsize'] = (5,3)\n",
        "x = range(100)\n",
        "y = range(100)\n",
        "plt.plot(x, y)\n",
        "plt.show()\n",
        "plt.title('선그래프')"
      ]
    },
    {
      "cell_type": "code",
      "execution_count": null,
      "id": "a1507299",
      "metadata": {
        "id": "a1507299"
      },
      "outputs": [],
      "source": [
        "# numpy 모듈 호출\n"
      ]
    },
    {
      "cell_type": "markdown",
      "id": "48424d65",
      "metadata": {
        "id": "48424d65"
      },
      "source": [
        "#### 1.2 그림과 축\n",
        "- fig : 그림은 그래프를 작성하는 밑바탕이 됨\n",
        "- ax  : 축은 실제로 그래프를 작성하는 공간"
      ]
    },
    {
      "cell_type": "code",
      "execution_count": null,
      "id": "ad249fa3",
      "metadata": {
        "id": "ad249fa3"
      },
      "outputs": [],
      "source": [
        "# (1) figure와 axes 객체 할당\n",
        "\n",
        "# (2) plot 함수를 사용하여 그래프 생성\n",
        "\n",
        "# (3)그래프 제목,X축 라벨,Y축 라벨 설정\n",
        "\n",
        "# (4) 그래프 출력"
      ]
    },
    {
      "cell_type": "code",
      "execution_count": null,
      "id": "dd08e15a",
      "metadata": {
        "scrolled": true,
        "id": "dd08e15a"
      },
      "outputs": [],
      "source": [
        "# (1) figure 반환\n",
        "# (2) figure의 크기 지정\n",
        "\n",
        "# (3) 첫 번째 그래프 생성\n",
        "# (4) 두 번째 그래프 생성\n",
        "\n",
        "# (5) 첫 번째 그래프 설정\n",
        "# (6) 두 번째 그래프 설정"
      ]
    },
    {
      "cell_type": "markdown",
      "id": "1af99360",
      "metadata": {
        "id": "1af99360"
      },
      "source": [
        "#### 1.3 서브플롯 행렬\n",
        "- 축을 여러 개 만들 때 서브플롯으로 축 객체 공간 확보\n",
        "- 그림 객체에서 add_subplot 함수 사용 ,또는 plot 객체에서 subplots 함수 사용"
      ]
    },
    {
      "cell_type": "code",
      "execution_count": null,
      "id": "eb449918",
      "metadata": {
        "id": "eb449918"
      },
      "outputs": [],
      "source": []
    },
    {
      "cell_type": "code",
      "execution_count": null,
      "id": "dcb0cffa",
      "metadata": {
        "scrolled": true,
        "id": "dcb0cffa"
      },
      "outputs": [],
      "source": [
        "# (1) x 값과 y_n 값 생성\n",
        "\n",
        "\n",
        "# (2) 2×2 figure 객체를 생성\n",
        "\n",
        "# (3) 첫 번째 그래프 생성\n",
        "# (4) 두 번째 그래프 생성\n",
        "# (5) 세 번째 그래프 생성\n",
        "# (6) 네 번째 그래프 생성\n"
      ]
    },
    {
      "cell_type": "code",
      "execution_count": null,
      "id": "c944ce06",
      "metadata": {
        "id": "c944ce06"
      },
      "outputs": [],
      "source": [
        "# (1) 첫 번째 공간에 axes 생성\n",
        "\n",
        "# (2) 두 번째 공간에 axes 생성\n",
        "\n",
        "# (3) 두 번째 공간에 axes 생성\n",
        "\n",
        "# (4) 다섯 번째 공간에 axes 생성\n",
        "\n",
        "# (5) 여섯 번째 공간에 axes 생성\n"
      ]
    },
    {
      "cell_type": "markdown",
      "id": "f49a4482",
      "metadata": {
        "id": "f49a4482"
      },
      "source": [
        "--------------------"
      ]
    },
    {
      "cell_type": "markdown",
      "id": "ea7c474b",
      "metadata": {
        "id": "ea7c474b"
      },
      "source": [
        "### 2. 맷플롯립으로 그래프 꾸미기"
      ]
    },
    {
      "cell_type": "markdown",
      "id": "c290840f",
      "metadata": {
        "id": "c290840f"
      },
      "source": [
        "#### 2.1 색상\n",
        "- color 또는 c 매개변수로 색상 변경\n",
        "- RGB 값을 사용해서 #을 붙여 16진법으로 색상 표현\n",
        "- b, g, r, c, m, y, k, w 등 약어 입력\n",
        "- https://matplotlib.org/stable/gallery/color/named_colors.html#sphx-glr-gallery-color-named-colors-py"
      ]
    },
    {
      "cell_type": "code",
      "execution_count": null,
      "id": "463778d1",
      "metadata": {
        "id": "463778d1"
      },
      "outputs": [],
      "source": [
        "\n"
      ]
    },
    {
      "cell_type": "code",
      "execution_count": null,
      "id": "70b1862d",
      "metadata": {
        "id": "70b1862d"
      },
      "outputs": [],
      "source": [
        "# 그래프 크기 설정\n",
        "\n"
      ]
    },
    {
      "cell_type": "markdown",
      "id": "ad01cbd1",
      "metadata": {
        "id": "ad01cbd1"
      },
      "source": [
        "#### 2.2 선의 형태\n",
        "- linestyle 또는 ls로 선의 형태를 정의\n",
        "- https://matplotlib.org/stable/gallery/lines_bars_and_markers/linestyles.html?highlight=linestyle"
      ]
    },
    {
      "cell_type": "code",
      "execution_count": null,
      "id": "a321b433",
      "metadata": {
        "scrolled": true,
        "id": "a321b433"
      },
      "outputs": [],
      "source": [
        "\n"
      ]
    },
    {
      "cell_type": "markdown",
      "id": "9167c007",
      "metadata": {
        "id": "9167c007"
      },
      "source": [
        "#### 2.3 제목"
      ]
    },
    {
      "cell_type": "code",
      "execution_count": null,
      "id": "b8a7683f",
      "metadata": {
        "scrolled": false,
        "id": "b8a7683f"
      },
      "outputs": [],
      "source": [
        "\n"
      ]
    },
    {
      "cell_type": "markdown",
      "id": "c67f20ee",
      "metadata": {
        "id": "c67f20ee"
      },
      "source": [
        "#### 2.4 범례\n",
        "- legend 함수 사용하여 생성\n",
        "- loc 매개변수로 범례의 위치 지정, 값은 center, upper right 등 총 11가지\n",
        "- best라고 지정하면 적절한 위치에 범례가 놓임"
      ]
    },
    {
      "cell_type": "code",
      "execution_count": null,
      "id": "70d2a068",
      "metadata": {
        "id": "70d2a068"
      },
      "outputs": [],
      "source": []
    },
    {
      "cell_type": "markdown",
      "id": "05b74a6e",
      "metadata": {
        "id": "05b74a6e"
      },
      "source": [
        "------------------"
      ]
    },
    {
      "cell_type": "markdown",
      "id": "3ec39514",
      "metadata": {
        "id": "3ec39514"
      },
      "source": [
        "### 3. 맷플롯립에서 사용하는 그래프\n",
        "- 데이터 테이블 전체를 지칭하는 객체\n",
        "- 넘파이 배열의 특성을 그대로 가짐\n",
        "- 인덱싱 : 열과 행 각각 사용하여 하나의 데이터에 접근"
      ]
    },
    {
      "cell_type": "markdown",
      "id": "5ccef190",
      "metadata": {
        "id": "5ccef190"
      },
      "source": [
        "### 3.1 산점도(scatter)\n",
        "- 매개변수 c는 포인트 색상을 지정\n",
        "- marker는 포인트 모양을 지정\n",
        "- size는 포인트 크기를 지정\n",
        "- alpha는 포인트 불투명도를 지정"
      ]
    },
    {
      "cell_type": "code",
      "execution_count": null,
      "id": "50fce0f2",
      "metadata": {
        "id": "50fce0f2"
      },
      "outputs": [],
      "source": [
        "data_1 = np.random.rand(512, 2)\n",
        "data_2 = np.random.rand(512, 2)\n",
        "\n"
      ]
    },
    {
      "cell_type": "code",
      "execution_count": null,
      "id": "65ef2fe5",
      "metadata": {
        "id": "65ef2fe5"
      },
      "outputs": [],
      "source": [
        "N = 50\n",
        "x = np.random.rand(N)\n",
        "y = np.random.rand(N)\n",
        "colors = np.random.rand(N)\n",
        "area = np.pi * (15 * np.random.rand(N))**2\n",
        "\n",
        "\n"
      ]
    },
    {
      "cell_type": "markdown",
      "id": "434b662f",
      "metadata": {
        "id": "434b662f"
      },
      "source": [
        "### 3.2 막대그래프(bar)\n",
        "- 데이터의 개수나 크기를 비교"
      ]
    },
    {
      "cell_type": "code",
      "execution_count": null,
      "id": "46c555bd",
      "metadata": {
        "id": "46c555bd"
      },
      "outputs": [],
      "source": [
        "# (1) 데이터 생성\n",
        "data = [[5., 25., 50., 20.],\n",
        "        [4., 23., 51., 17],\n",
        "        [6., 22., 52., 19]]\n",
        "\n",
        "# (2) X 좌표 시작점\n",
        "X = np.arange(0,8,2)\n",
        "\n",
        "# (3) 3개의 막대그래프 생성\n",
        "\n",
        "\n",
        "\n",
        "# (4) X축에 표시될 이름과 위치 설정\n",
        "\n",
        "\n",
        "\n",
        "# (5) 막대그래프 출력\n"
      ]
    },
    {
      "cell_type": "markdown",
      "id": "5e51c1b7",
      "metadata": {
        "id": "5e51c1b7"
      },
      "source": [
        "### 3.3 누적 막대그래프(stacked bar graph)\n",
        "- 누적 막대그래프(stacked bar graph) : 데이터를 밑에서부터 쌓아올려 데이터를 표현"
      ]
    },
    {
      "cell_type": "code",
      "execution_count": null,
      "id": "3e533291",
      "metadata": {
        "scrolled": true,
        "id": "3e533291"
      },
      "outputs": [],
      "source": [
        "data = np.array([[5., 25., 50., 20.],\n",
        "                 [4., 23., 51., 17],\n",
        "                 [6., 22., 52., 19]])\n",
        "\n",
        "color_list = ['b', 'g', 'r']\n",
        "data_label = [\"A\",\"B\",\"C\"]\n",
        "X = np.arange(data.shape[1])\n",
        "print(X)\n",
        "\n",
        "\n"
      ]
    },
    {
      "cell_type": "markdown",
      "id": "c96e8007",
      "metadata": {
        "id": "c96e8007"
      },
      "source": [
        "### 3.3 히스토그램(histogram)\n",
        "- 데이터의 분포를 표현"
      ]
    },
    {
      "cell_type": "code",
      "execution_count": null,
      "id": "767c72d3",
      "metadata": {
        "id": "767c72d3",
        "scrolled": true
      },
      "outputs": [],
      "source": [
        "N = 1000\n",
        "X = np.random.normal(size=N)\n",
        "\n",
        "\n"
      ]
    },
    {
      "cell_type": "markdown",
      "id": "6b93c9d0",
      "metadata": {
        "id": "6b93c9d0"
      },
      "source": [
        "### 3.4 상자그림(boxplot)\n",
        "- 상자그림(boxplot) : 사분위수를 시각화하여 데이터의 분포와 밀집 정도를 표현"
      ]
    },
    {
      "cell_type": "code",
      "execution_count": null,
      "id": "d7011b87",
      "metadata": {
        "id": "d7011b87"
      },
      "outputs": [],
      "source": [
        "data = np.random.randn(100,5)\n",
        "\n"
      ]
    },
    {
      "cell_type": "markdown",
      "id": "a326a44e",
      "metadata": {
        "id": "a326a44e"
      },
      "source": [
        "-----------------"
      ]
    },
    {
      "cell_type": "markdown",
      "id": "7c78c97e",
      "metadata": {
        "id": "7c78c97e"
      },
      "source": [
        "## <a name=\"05.2시본\">05.2 시본</a>"
      ]
    },
    {
      "cell_type": "markdown",
      "id": "1867211e",
      "metadata": {
        "id": "1867211e"
      },
      "source": [
        "### 1. 시본의 기본 (Seaborn)\n",
        "- 시본(seaborn) : 맷플롯립을 바탕으로 다양한 함수 사용을 돕는 일종의 래퍼(wrapper) 모듈\n",
        "- 맷플롯립과 동일한 결과물이 나오며, 작성 과정이 간단\n",
        "- xticks 설정하지 않아도 각 축에 라벨 자동으로 생성\n",
        "- 데이터프레임과 x, y에 해당하는 열 이름만 지정하면 됨\n",
        "- sns.set_style(\"그래프 스타일\") : darkgrid(default), whitegrid, dark, white, ticks\n",
        "- sns.despine() : 축, 테두리 지정 : left, right, top, bottom # default"
      ]
    },
    {
      "cell_type": "code",
      "execution_count": null,
      "id": "71c149df",
      "metadata": {
        "scrolled": true,
        "id": "71c149df"
      },
      "outputs": [],
      "source": [
        "import numpy as np\n",
        "import pandas as pd\n",
        "import matplotlib.pyplot as plt\n",
        "import seaborn as sns                # (1)seaborn 모듈 호출\n",
        "\n",
        "fmri = sns.load_dataset(\"fmri\")       # (2) fmri 데이터셋 사용\n",
        "sns.set_style(\"whitegrid\")            # (3) 기본 스타일 적용\n",
        "sns.lineplot(x=\"timepoint\", y=\"signal\", data=fmri) # (4) 선그래프 작성\n",
        "plt.show()"
      ]
    },
    {
      "cell_type": "code",
      "execution_count": null,
      "id": "d1f97e84",
      "metadata": {
        "id": "d1f97e84"
      },
      "outputs": [],
      "source": [
        "sns.get_dataset_names()  # Seaborn 데이터셋 목록"
      ]
    },
    {
      "cell_type": "code",
      "execution_count": null,
      "id": "e06a1fcf",
      "metadata": {
        "scrolled": true,
        "id": "e06a1fcf"
      },
      "outputs": [],
      "source": [
        "fmri.sample(n=10, random_state=1)"
      ]
    },
    {
      "cell_type": "code",
      "execution_count": null,
      "id": "62cd8323",
      "metadata": {
        "scrolled": true,
        "id": "62cd8323"
      },
      "outputs": [],
      "source": [
        "sns.lineplot(x=\"timepoint\", y=\"signal\", hue=\"event\", data=fmri)"
      ]
    },
    {
      "cell_type": "markdown",
      "id": "493f8768",
      "metadata": {
        "id": "493f8768"
      },
      "source": [
        "### 2. 시본에서 사용하는 그래프"
      ]
    },
    {
      "cell_type": "markdown",
      "id": "196a3b11",
      "metadata": {
        "id": "196a3b11"
      },
      "source": [
        "### 2.1 회귀 그래프\n",
        "- 회귀 그래프(regression plot) : 회귀식을 적용하여 선형회귀 추세선을 그래프에 함께 작성\n",
        "- 선형회귀 추세선 : 데이터를 기반으로 데이터의 x값 대비 y값 변화를 예측하는 직선\n",
        "- 함수 regplot 사용"
      ]
    },
    {
      "cell_type": "code",
      "execution_count": null,
      "id": "87145b1f",
      "metadata": {
        "scrolled": true,
        "id": "87145b1f"
      },
      "outputs": [],
      "source": [
        "tips = sns.load_dataset(\"tips\")\n",
        "tips\n",
        "sns.regplot(x=\"total_bill\", y=\"tip\", data=tips, x_ci=95)"
      ]
    },
    {
      "cell_type": "markdown",
      "id": "572676c4",
      "metadata": {
        "id": "572676c4"
      },
      "source": [
        "### 2.2 산점도\n",
        "- 산점도(scatter plot) : x, y를 기준으로 데이터의 분포 표현\n",
        "- 함수 scatterplot 사용"
      ]
    },
    {
      "cell_type": "code",
      "execution_count": null,
      "id": "794829cd",
      "metadata": {
        "id": "794829cd"
      },
      "outputs": [],
      "source": [
        "tips = sns.load_dataset(\"tips\")\n",
        "sns.scatterplot(x=\"total_bill\", y=\"tip\", hue=\"time\", data=tips)"
      ]
    },
    {
      "cell_type": "markdown",
      "id": "e76151b7",
      "metadata": {
        "id": "e76151b7"
      },
      "source": [
        "### 2.3 비교 그래프\n",
        "- 비교 그래프(counter plot) : 범주형 데이터의 항목별 개수"
      ]
    },
    {
      "cell_type": "code",
      "execution_count": null,
      "id": "ed3aad0c",
      "metadata": {
        "id": "ed3aad0c"
      },
      "outputs": [],
      "source": [
        "tips = sns.load_dataset(\"tips\")\n",
        "sns.countplot(x=\"smoker\", hue=\"time\", data=tips)"
      ]
    },
    {
      "cell_type": "markdown",
      "id": "739354cd",
      "metadata": {
        "id": "739354cd"
      },
      "source": [
        "### 2.4 막대그래프\n",
        "- y 값이 연속형 값일 경우 해당 값들의 평균을 나타냄\n",
        "- 데이터의 신뢰구간을 검은색 막대로 표현\n",
        "- 함수 barplot 사용"
      ]
    },
    {
      "cell_type": "code",
      "execution_count": null,
      "id": "04d6a5fc",
      "metadata": {
        "id": "04d6a5fc"
      },
      "outputs": [],
      "source": [
        "sns.barplot(x=\"day\", y=\"total_bill\", data=tips)"
      ]
    },
    {
      "cell_type": "markdown",
      "id": "fb016cc5",
      "metadata": {
        "id": "fb016cc5"
      },
      "source": [
        "### 3. 3. 사전 정의된 그래프\n",
        "- 맷플롯립 관점에서 여러 그래프들을 합쳐 정보를 추출\n",
        "- 특히 범주형 데이터에 유용"
      ]
    },
    {
      "cell_type": "markdown",
      "id": "c6530c56",
      "metadata": {
        "id": "c6530c56"
      },
      "source": [
        "#### 3.1 분포를 나타내는 그래프 : 바이올린 플롯과 스웜 플롯\n",
        "- 바이올린 플롯(violin plot) : 상자그림과 분포도를 한 번에 나타낼 수 있음\n",
        "- x축에는 범주형 데이터, y축에는 연속형 데이터"
      ]
    },
    {
      "cell_type": "code",
      "execution_count": null,
      "id": "aca9f14f",
      "metadata": {
        "id": "aca9f14f"
      },
      "outputs": [],
      "source": [
        "sns.violinplot(x=\"day\", y=\"total_bill\", hue=\"smoker\",data=tips, palette=\"muted\")"
      ]
    },
    {
      "cell_type": "markdown",
      "id": "59b0be47",
      "metadata": {
        "id": "59b0be47"
      },
      "source": [
        "- 스웜 플롯(swarm plot) : 바이올린 플롯과 같은 형태에 산점도로 데이터 분포를 나타냄\n",
        "- 매개변수 hue로 두 개 이상의 범주형 데이터를 점이 겹치지 않게 정리\n",
        "- 영역별 데이터 양을 직관적으로 보여줌"
      ]
    },
    {
      "cell_type": "code",
      "execution_count": null,
      "id": "8f11f161",
      "metadata": {
        "scrolled": true,
        "id": "8f11f161"
      },
      "outputs": [],
      "source": [
        "sns.swarmplot(x=\"day\", y=\"total_bill\", hue=\"smoker\", data=tips, palette=\"muted\")"
      ]
    },
    {
      "cell_type": "markdown",
      "id": "b1069835",
      "metadata": {
        "id": "b1069835"
      },
      "source": [
        "#### 3.2 다양한 범주형 데이터를 나타내는 패싯그리드\n",
        "- 패싯그리드(FacetGrid) : 그래프의 틀만 제공하여 적당한 그래프를 그려주는 클래스\n",
        "- 그리드가 생성된 후 맵(map)을 사용하여 그래프 만듦\n",
        "- 각 FacetGrid에 있는 개별 그래프 영역에 그래프를 집어넣는 구조\n",
        "- 전체 데이터를 범주형 데이터의 다양한 관점에서 나눠서 볼 수 있음"
      ]
    },
    {
      "cell_type": "code",
      "execution_count": null,
      "id": "05b6b06b",
      "metadata": {
        "id": "05b6b06b"
      },
      "outputs": [],
      "source": [
        "g = sns.FacetGrid(tips, col=\"time\", row=\"sex\")\n",
        "\n",
        "g.map(sns.scatterplot, \"total_bill\", \"tip\")"
      ]
    },
    {
      "cell_type": "code",
      "execution_count": null,
      "id": "51427f46",
      "metadata": {
        "id": "51427f46"
      },
      "outputs": [],
      "source": [
        "g = sns.FacetGrid(tips, col=\"time\", row=\"sex\")\n",
        "\n",
        "g.map_dataframe(sns.histplot, x=\"total_bill\")\n"
      ]
    },
    {
      "cell_type": "markdown",
      "id": "0cc74b91",
      "metadata": {
        "id": "0cc74b91"
      },
      "source": [
        "------------------------"
      ]
    },
    {
      "cell_type": "markdown",
      "id": "89e3c211",
      "metadata": {
        "id": "89e3c211"
      },
      "source": [
        "## <a name=\"05.3플롯리\">05.3 플롯리</a>"
      ]
    },
    {
      "cell_type": "markdown",
      "id": "1563671a",
      "metadata": {
        "id": "1563671a"
      },
      "source": [
        "### 1. 플롯리의 특징\n",
        "- 플롯리(plotly) : 비즈니스 인텔리전스(Business Intelligence) 대시보드로 개발된 도구\n",
        "- 맷플롯립이나 시본은 데이터 분석가들이 데이터의 형태나 분포를 살피기 위해 코드로 사용하는 도구\n",
        "- 문법은 맷플롯립이나 시본과 유사\n",
        "- 인터랙션 그래프를 지원\n",
        " - - 생성된 그래프에 마우스 커서를 올리면 데이터를 볼 수 있음 (인터랙션 그래프)"
      ]
    },
    {
      "cell_type": "code",
      "execution_count": null,
      "id": "dd187e4b",
      "metadata": {
        "id": "dd187e4b"
      },
      "outputs": [],
      "source": [
        "import plotly.express as px\n",
        "\n",
        "df = px.data.iris()     # iris는 판다스 데이터프레임\n",
        "fig = px.scatter(df, x=\"sepal_width\", y=\"sepal_length\")\n",
        "fig.show()"
      ]
    },
    {
      "cell_type": "markdown",
      "id": "c74e59ce",
      "metadata": {
        "id": "c74e59ce"
      },
      "source": [
        "### 좌표 그래프(coordinates plot)\n",
        "- 데이터 간 관계를 표현(시본은 제공하지 않지만 플롯리에서 제공하는 기능)"
      ]
    },
    {
      "cell_type": "code",
      "execution_count": null,
      "id": "687037d2",
      "metadata": {
        "scrolled": true,
        "id": "687037d2"
      },
      "outputs": [],
      "source": [
        "fig = px.parallel_coordinates(df, color=\"species_id\",\n",
        "        labels={\"species_id\": \"Species\",\n",
        "                \"sepal_width\": \"Sepal Width\", \"sepal_length\": \"Sepal Length\",\n",
        "                \"petal_width\": \"Petal Width\", \"petal_length\": \"Petal Length\", },\n",
        "                color_continuous_scale=  px.colors.diverging.Tealrose, color_continuous_midpoint=2)\n",
        "fig.show()"
      ]
    },
    {
      "cell_type": "markdown",
      "id": "b6197470",
      "metadata": {
        "id": "b6197470"
      },
      "source": [
        "-----------------"
      ]
    },
    {
      "cell_type": "markdown",
      "id": "2268a542",
      "metadata": {
        "id": "2268a542"
      },
      "source": [
        "## <a name=\"예제:전세계행복지수\">예제: 전세계행복지수 분석</a>"
      ]
    },
    {
      "cell_type": "markdown",
      "id": "8f9cc84b",
      "metadata": {
        "id": "8f9cc84b"
      },
      "source": [
        "### 1. 파일의 데이터 읽어오기\n",
        "- Ladder score : 행복지수"
      ]
    },
    {
      "cell_type": "code",
      "execution_count": null,
      "id": "40142c09",
      "metadata": {
        "id": "40142c09"
      },
      "outputs": [],
      "source": [
        "import pandas as pd\n",
        "import matplotlib.pyplot as plt\n",
        "import seaborn as sns\n",
        "import plotly.express as px\n",
        "\n",
        "filename = './data/world-happiness-report-2021.csv'\n",
        "happiness_data = pd.read_csv(filename)\n",
        "happiness_data.head()"
      ]
    },
    {
      "cell_type": "markdown",
      "id": "07d473b5",
      "metadata": {
        "id": "07d473b5"
      },
      "source": [
        "### 2.데이터 살펴보기"
      ]
    },
    {
      "cell_type": "code",
      "execution_count": null,
      "id": "f2e5adaa",
      "metadata": {
        "id": "f2e5adaa"
      },
      "outputs": [],
      "source": [
        "happiness_data.info()"
      ]
    },
    {
      "cell_type": "code",
      "execution_count": null,
      "id": "0dae4bd2",
      "metadata": {
        "id": "0dae4bd2"
      },
      "outputs": [],
      "source": [
        "happiness = happiness_data.iloc[:,[0,1,2,6,7,8,9,10,11]]\n",
        "happiness.head(5)"
      ]
    },
    {
      "cell_type": "markdown",
      "id": "3af116ec",
      "metadata": {
        "id": "3af116ec"
      },
      "source": [
        "### 데이터 통계치 살펴보기\n",
        "* 전체 나라 수, 행복지수의 최댓값, 행복지수 평균, 행복지수 최솟값"
      ]
    },
    {
      "cell_type": "code",
      "execution_count": null,
      "id": "4669733d",
      "metadata": {
        "scrolled": true,
        "id": "4669733d"
      },
      "outputs": [],
      "source": [
        "happiness.describe()   # 기술통계 정보"
      ]
    },
    {
      "cell_type": "markdown",
      "id": "3a958f7e",
      "metadata": {
        "id": "3a958f7e"
      },
      "source": [
        "- **행복지수(Ladder score) 속성을 기준으로 내림차순 정렬: 특정 국가 조회**"
      ]
    },
    {
      "cell_type": "code",
      "execution_count": null,
      "id": "c1793bc3",
      "metadata": {
        "id": "c1793bc3"
      },
      "outputs": [],
      "source": [
        "#'행복지수' 속성을 기준으로 내림차순 정렬 후, 국가명(Country name)이 'South Korea'인 행을 찾아 출력\n",
        "happiness = happiness.sort_values('Ladder score', ascending=False)\n",
        "happiness.loc[happiness['Country name']=='South Korea']"
      ]
    },
    {
      "cell_type": "markdown",
      "id": "0aa599f6",
      "metadata": {
        "id": "0aa599f6"
      },
      "source": [
        "- **가로막대형그래프 시각화** : 행복지수가 높거나, 낮은 국가"
      ]
    },
    {
      "cell_type": "code",
      "execution_count": null,
      "id": "43a13921",
      "metadata": {
        "id": "43a13921"
      },
      "outputs": [],
      "source": [
        "happinessFilter = happiness[(happiness.loc[:,'Ladder score']>=7.5) |\\\n",
        "                            (happiness.loc[:,'Ladder score']<=3.5)]\n",
        "sns.barplot(x='Ladder score', y='Country name', data=happinessFilter, palette='coolwarm')"
      ]
    },
    {
      "cell_type": "markdown",
      "id": "c2c533c9",
      "metadata": {
        "id": "c2c533c9"
      },
      "source": [
        "### [실습]\n",
        "*  해보기\n",
        "  * 다음 조건에 맞는 가로형 막대그래프를 출력해 봅시다.\n",
        "  1. 1인당 국내총생산을 기준으로 내림차순으로 정렬한다.\n",
        "  2. x축을 1인당 국내총생산(Logged GDP per capita)으로 변경한다.\n",
        "  3. 1인당 국내총생산이 11.1 이상인 나라와 7.2 이하인 나라만 그래프로 표현한다.\n",
        "  4. 색상팔레트를 'PiYG'로 설정한다."
      ]
    },
    {
      "cell_type": "code",
      "execution_count": null,
      "id": "372b475a",
      "metadata": {
        "id": "372b475a"
      },
      "outputs": [],
      "source": []
    },
    {
      "cell_type": "markdown",
      "id": "5aa12cb0",
      "metadata": {
        "id": "5aa12cb0"
      },
      "source": [
        "-----------"
      ]
    },
    {
      "cell_type": "markdown",
      "id": "c30a22df",
      "metadata": {
        "id": "c30a22df"
      },
      "source": [
        "### 탐색정보1.\n",
        "#### 지역별 행복지수의 분포 시각화\n",
        "* 시본의 boxplot()메소드\n",
        "  * sns.boxplot(x='속성명', y='속성명', data=데이터프레임 객체)"
      ]
    },
    {
      "cell_type": "code",
      "execution_count": null,
      "id": "dbfe886d",
      "metadata": {
        "id": "dbfe886d"
      },
      "outputs": [],
      "source": [
        "sns.boxplot(x='Ladder score', y='Regional indicator', data=happiness, orient='h')"
      ]
    },
    {
      "cell_type": "code",
      "execution_count": null,
      "id": "d22adc8b",
      "metadata": {
        "id": "d22adc8b"
      },
      "outputs": [],
      "source": [
        "sns.boxplot(x='Regional indicator', y='Ladder score', data=happiness, orient='v')\n",
        "plt.xticks(rotation=80)"
      ]
    },
    {
      "cell_type": "code",
      "execution_count": null,
      "id": "928c7a30",
      "metadata": {
        "id": "928c7a30"
      },
      "outputs": [],
      "source": [
        "df_data = happiness[['Regional indicator', 'Ladder score']]\n",
        "\n",
        "df_data.groupby(['Regional indicator'])['Ladder score'].agg(**{'최소값':'min', '최대값':'max'}).reset_index()\n",
        "\n",
        "# df_data.groupby(['Regional indicator'])['Ladder score'].quantile(.5)"
      ]
    },
    {
      "cell_type": "markdown",
      "id": "6a8f6cfd",
      "metadata": {
        "id": "6a8f6cfd"
      },
      "source": [
        "### 상관계수 시각화\n",
        "* px.imshow(데이터프레임객체.corr(), text_auto=True)"
      ]
    },
    {
      "cell_type": "code",
      "execution_count": null,
      "id": "5b01b3ed",
      "metadata": {
        "scrolled": true,
        "id": "5b01b3ed"
      },
      "outputs": [],
      "source": [
        "fig = px.imshow(happiness.corr(), text_auto=True)\n",
        "fig.update_layout(title='상관관계 시각화', width=800, title_x=0.5)\n",
        "fig.show()"
      ]
    },
    {
      "cell_type": "markdown",
      "id": "2b73dd84",
      "metadata": {
        "id": "2b73dd84"
      },
      "source": [
        "-----------------------"
      ]
    },
    {
      "cell_type": "markdown",
      "id": "e5bcf2f2",
      "metadata": {
        "id": "e5bcf2f2"
      },
      "source": [
        "### 탐색정보2.\n",
        "* 전세계 행복지수를 한눈에 보기 위해 반응형 그래프 그리기\n",
        "  * treemap()\n",
        "  * sunburst()\n",
        "  * choropleth()"
      ]
    },
    {
      "cell_type": "markdown",
      "id": "616530af",
      "metadata": {
        "id": "616530af"
      },
      "source": [
        "### treemap 시각화\n",
        "* treemap\n",
        "  * 계층(트리구조)을 이루는 데이터 전체와 일부분 간의 관계를 파악하기 위한 시각화 기법\n",
        "  * 범주간의 정확한 비교보다 큰 특징을 살펴볼 때 주로 사용\n",
        "\n",
        "* `px.treemap(data_frame=데이터프레임객체, path=[부모열,자식열], values=열속성, color=열속성)`\n",
        "  * path는 [부모,자식] 순서로 작성\n",
        "  * values는 사각형 크기가 나타내는 속성\n",
        "  * color는 색상으로 표현하는 속성"
      ]
    },
    {
      "cell_type": "code",
      "execution_count": null,
      "id": "99b52f54",
      "metadata": {
        "scrolled": true,
        "id": "99b52f54"
      },
      "outputs": [],
      "source": [
        "fig = px.treemap(data_frame=happiness,\n",
        "                 path=['Regional indicator','Country name'],\n",
        "                 values='Ladder score',\n",
        "                 color='Ladder score')\n",
        "fig.show()"
      ]
    },
    {
      "cell_type": "code",
      "execution_count": null,
      "id": "821e5ee8",
      "metadata": {
        "id": "821e5ee8"
      },
      "outputs": [],
      "source": [
        "# 그래프 제목 넣기\n",
        "fig = px.treemap(data_frame=happiness,\n",
        "                 path=[px.Constant('world'),'Regional indicator','Country name'],\n",
        "                 values='Ladder score',\n",
        "                 color='Ladder score')\n",
        "fig.update_layout(title='나라별 행복 지수', title_x=0.5, width=900, height=900)\n",
        "fig.show()"
      ]
    },
    {
      "cell_type": "markdown",
      "id": "62194c48",
      "metadata": {
        "id": "62194c48"
      },
      "source": [
        "### sunburst 시각화\n",
        "* px.sunburst(data_frame=데이터프레임객체, path=[부모열, 자식열], values=열속성, color=열속성)"
      ]
    },
    {
      "cell_type": "code",
      "execution_count": null,
      "id": "565ad514",
      "metadata": {
        "id": "565ad514"
      },
      "outputs": [],
      "source": [
        "fig = px.sunburst(data_frame=happiness,\n",
        "                  path=['Regional indicator', 'Country name'],\n",
        "                  values='Ladder score',\n",
        "                  color='Ladder score')\n",
        "fig.update_layout(title='나라별 행복 지수', title_x=0.5, width=1200, height=900)\n",
        "fig.show()"
      ]
    },
    {
      "cell_type": "markdown",
      "id": "cf7f8d54",
      "metadata": {
        "id": "cf7f8d54"
      },
      "source": [
        "### choropleth\n",
        "* px.choropleth(data_frame=데이터프레임객체, location='열이름', locationmode='country names', color='열이름')"
      ]
    },
    {
      "cell_type": "code",
      "execution_count": null,
      "id": "c3be658e",
      "metadata": {
        "scrolled": false,
        "id": "c3be658e"
      },
      "outputs": [],
      "source": [
        "px.choropleth(data_frame=happiness,\n",
        "              locations='Country name',\n",
        "              locationmode='country names',\n",
        "              color='Ladder score')"
      ]
    },
    {
      "cell_type": "markdown",
      "id": "9599905c",
      "metadata": {
        "id": "9599905c"
      },
      "source": [
        "### 애니메이션 효과 사용하기"
      ]
    },
    {
      "cell_type": "code",
      "execution_count": null,
      "id": "b98b5165",
      "metadata": {
        "id": "b98b5165"
      },
      "outputs": [],
      "source": [
        "filename = './data/world-happiness-report-all.csv'\n",
        "happiness_year_data = pd.read_csv(filename)\n",
        "happiness_year_data.head()"
      ]
    },
    {
      "cell_type": "code",
      "execution_count": null,
      "id": "b543bef1",
      "metadata": {
        "id": "b543bef1"
      },
      "outputs": [],
      "source": [
        "# 애니메이션 효과\n",
        "fig = px.choropleth(data_frame=happiness_year_data.sort_values('year'),\n",
        "                    locations='Country name',\n",
        "                    locationmode='country names',\n",
        "                    color='Life Ladder',\n",
        "                    animation_frame='year')\n",
        "fig.update_layout(title='연도별 전 세계 행복지수')\n",
        "fig.show()"
      ]
    },
    {
      "cell_type": "code",
      "execution_count": null,
      "id": "d2ca8029",
      "metadata": {
        "id": "d2ca8029"
      },
      "outputs": [],
      "source": []
    }
  ],
  "metadata": {
    "kernelspec": {
      "display_name": "Python 3 (ipykernel)",
      "language": "python",
      "name": "python3"
    },
    "language_info": {
      "codemirror_mode": {
        "name": "ipython",
        "version": 3
      },
      "file_extension": ".py",
      "mimetype": "text/x-python",
      "name": "python",
      "nbconvert_exporter": "python",
      "pygments_lexer": "ipython3",
      "version": "3.10.9"
    },
    "colab": {
      "provenance": [],
      "include_colab_link": true
    }
  },
  "nbformat": 4,
  "nbformat_minor": 5
}